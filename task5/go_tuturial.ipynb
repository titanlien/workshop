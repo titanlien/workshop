{
 "cells": [
  {
   "cell_type": "code",
   "execution_count": null,
   "metadata": {},
   "outputs": [],
   "source": [
    "import (\n",
    "    \"fmt\"\n",
    "    \"math\"\n",
    "    \"math/cmplx\"\n",
    "    \"math/rand\"\n",
    "    \"runtime\"\n",
    "    \"time\"\n",
    ")"
   ]
  },
  {
   "cell_type": "code",
   "execution_count": null,
   "metadata": {},
   "outputs": [],
   "source": [
    "func for_loop(){\n",
    "    sum := 0\n",
    "    for i := 0; i< 10; i++ {\n",
    "        sum += 1\n",
    "    }\n",
    "\n",
    "    fmt.Println(sum)\n",
    "}\n",
    "func for_sum(){\n",
    "    sum := 1\n",
    "    for ; sum < 100; {\n",
    "        sum += sum\n",
    "    }\n",
    "    fmt.Println(sum)\n",
    "}\n",
    "for_loop()\n",
    "for_sum()"
   ]
  },
  {
   "cell_type": "code",
   "execution_count": null,
   "metadata": {},
   "outputs": [],
   "source": [
    "func sqrt(x float64) string {\n",
    "    if x < 0 {\n",
    "        return sqrt(-x) + \"i\"\n",
    "    }\n",
    "    return fmt.Sprint(math.Sqrt(x))\n",
    "}\n",
    "func swap(_a, _b string) (string, string) {\n",
    "\treturn _b, _a\n",
    "}\n",
    "\n",
    "func swap2(_a, _b string) (_c, _d string) {\n",
    "\t_c, _d = _b, _a\n",
    "\treturn\n",
    "}\n",
    "fmt.Println(sqrt(-4), sqrt(2))\n",
    "fmt.Println(swap(\"1st\", \"2nd\"))\n",
    "fmt.Println(swap2(\"3rd\", \"4th\"))"
   ]
  },
  {
   "cell_type": "code",
   "execution_count": null,
   "metadata": {},
   "outputs": [],
   "source": [
    "func pow(x, n, lim float64) float64 {\n",
    "\tif v := math.Pow(x, n); v < lim {\n",
    "\t\treturn v\n",
    "\t}\n",
    "\treturn lim\n",
    "}\n",
    "fmt.Println(pow(3, 3, 20))"
   ]
  },
  {
   "cell_type": "code",
   "execution_count": null,
   "metadata": {},
   "outputs": [],
   "source": [
    "func Sqrt(x float64) (z float64) {\n",
    "    z := x/2\n",
    "    for i := 0; i < 5 ; i++ {\n",
    "        z -= (z*z - x) / (2*z)\n",
    "    }\n",
    "    return\n",
    "}\n",
    "fmt.Println(Sqrt(2), Sqrt(222), Sqrt(798))\n",
    "fmt.Println(math.Sqrt(2), math.Sqrt(222), math.Sqrt(798))"
   ]
  },
  {
   "cell_type": "markdown",
   "metadata": {},
   "source": [
    "`Switch case`"
   ]
  },
  {
   "cell_type": "code",
   "execution_count": null,
   "metadata": {},
   "outputs": [],
   "source": [
    "func get_os() {\n",
    "    switch os := runtime.GOOS; os {\n",
    "        case \"darwin\":\n",
    "            fmt.Println(\"OS X.\")\n",
    "        case \"linux\":\n",
    "        fmt.Println(\"Linux.\")\n",
    "        default:\n",
    "        fmt.Printf(\"%s.\\n\", os)\n",
    "    }\n",
    "}\n",
    "func get_weekday(){\n",
    "    today := time.Now().Weekday()\n",
    "    switch time.Friday {\n",
    "        case today + 0:\n",
    "            fmt.Println(\"Today.\")\n",
    "        case today + 1:\n",
    "            fmt.Println(\"Tomorrow.\")\n",
    "        case today + 2:\n",
    "            fmt.Println(\"In two days.\")\n",
    "        default:\n",
    "            fmt.Println(\"Too far away.\")\n",
    "    }\n",
    "}\n",
    "get_os()\n",
    "get_weekday()"
   ]
  },
  {
   "cell_type": "markdown",
   "metadata": {},
   "source": [
    "`Defer`"
   ]
  },
  {
   "cell_type": "code",
   "execution_count": null,
   "metadata": {},
   "outputs": [],
   "source": [
    "func do_defer(){\n",
    "    fmt.Println(\"counting...\")\n",
    "    defer fmt.Println(\"done\")\n",
    "\tfor i := 0; i < 5; i++ {\n",
    "\t\tdefer fmt.Println(i)\n",
    "\t}\n",
    "}\n",
    "do_defer()"
   ]
  },
  {
   "cell_type": "markdown",
   "metadata": {},
   "source": [
    "`Pointer`"
   ]
  },
  {
   "cell_type": "code",
   "execution_count": null,
   "metadata": {},
   "outputs": [],
   "source": [
    "func pointer() {\n",
    "    i, j := 42,2019\n",
    "    p := &i\n",
    "    fmt.Println(p, *p)\n",
    "    *p = 21\n",
    "    fmt.Println(p, *p, i)\n",
    "    p = &j\n",
    "    *p = *p/37\n",
    "    fmt.Println(p, *p, i, j)\n",
    "}\n",
    "pointer()"
   ]
  },
  {
   "cell_type": "markdown",
   "metadata": {},
   "source": [
    "`Struct`"
   ]
  },
  {
   "cell_type": "code",
   "execution_count": null,
   "metadata": {},
   "outputs": [],
   "source": [
    "type Vertex struct {\n",
    "    X,Y int\n",
    "}\n",
    "\n",
    "var (\n",
    "    v1 = Vertex{3,5}\n",
    "    v2 = Vertex{Y: 4}\n",
    "    v3 = Vertex{}\n",
    "    p = &v1\n",
    ")\n",
    "\n",
    "fmt.Println(v1, v2, v3, *p)"
   ]
  },
  {
   "cell_type": "markdown",
   "metadata": {},
   "source": [
    "`Array + slice`"
   ]
  },
  {
   "cell_type": "code",
   "execution_count": null,
   "metadata": {},
   "outputs": [],
   "source": [
    "food := [4]string {\n",
    "    \"apple\",\n",
    "    \"banana\",\n",
    "    \"caro\",\n",
    "    \"dish\",\n",
    "}\n",
    "a := food[:2]\n",
    "b := food[1:3]\n",
    "fmt.Println(a, b)\n",
    "\n",
    "b[0] = \"enough\"\n",
    "fmt.Println(a, b, food)\n",
    "fmt.Printf(\"%%v: %v\\n\", food)"
   ]
  }
 ],
 "metadata": {
  "kernelspec": {
   "display_name": "Go",
   "language": "go",
   "name": "gophernotes"
  },
  "language_info": {
   "codemirror_mode": "",
   "file_extension": ".go",
   "mimetype": "",
   "name": "go",
   "nbconvert_exporter": "",
   "pygments_lexer": "",
   "version": "go1.13.8"
  },
  "toc": {
   "base_numbering": 1,
   "nav_menu": {},
   "number_sections": true,
   "sideBar": true,
   "skip_h1_title": false,
   "title_cell": "Table of Contents",
   "title_sidebar": "Contents",
   "toc_cell": false,
   "toc_position": {},
   "toc_section_display": true,
   "toc_window_display": false
  },
  "varInspector": {
   "cols": {
    "lenName": 16,
    "lenType": 16,
    "lenVar": 40
   },
   "kernels_config": {
    "python": {
     "delete_cmd_postfix": "",
     "delete_cmd_prefix": "del ",
     "library": "var_list.py",
     "varRefreshCmd": "print(var_dic_list())"
    },
    "r": {
     "delete_cmd_postfix": ") ",
     "delete_cmd_prefix": "rm(",
     "library": "var_list.r",
     "varRefreshCmd": "cat(var_dic_list()) "
    }
   },
   "types_to_exclude": [
    "module",
    "function",
    "builtin_function_or_method",
    "instance",
    "_Feature"
   ],
   "window_display": false
  }
 },
 "nbformat": 4,
 "nbformat_minor": 4
}
