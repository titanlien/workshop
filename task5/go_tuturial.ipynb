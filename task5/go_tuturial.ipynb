{
 "cells": [
  {
   "cell_type": "code",
   "execution_count": 1,
   "metadata": {},
   "outputs": [],
   "source": [
    "import (\n",
    "    \"fmt\"\n",
    "    \"math\"\n",
    "    \"math/cmplx\"\n",
    "    \"math/rand\"\n",
    ")"
   ]
  },
  {
   "cell_type": "code",
   "execution_count": 2,
   "metadata": {},
   "outputs": [],
   "source": [
    "func for_loop(){\n",
    "    sum := 0\n",
    "    for i := 0; i< 10; i++ {\n",
    "        sum += 1\n",
    "    }\n",
    "\n",
    "    fmt.Println(sum)\n",
    "}\n",
    "func for_sum(){\n",
    "    sum := 1\n",
    "    for ; sum < 100; {\n",
    "        sum += sum\n",
    "    }\n",
    "    fmt.Println(sum)\n",
    "}"
   ]
  },
  {
   "cell_type": "code",
   "execution_count": 3,
   "metadata": {},
   "outputs": [],
   "source": [
    "func sqrt(x float64) string {\n",
    "    if x < 0 {\n",
    "        return sqrt(-x) + \"i\"\n",
    "    }\n",
    "    return fmt.Sprint(math.Sqrt(x))\n",
    "}\n",
    "func swap(_a, _b string) (string, string) {\n",
    "\treturn _b, _a\n",
    "}\n",
    "\n",
    "func swap2(_a, _b string) (_c, _d string) {\n",
    "\t_c, _d = _b, _a\n",
    "\treturn\n",
    "}"
   ]
  },
  {
   "cell_type": "code",
   "execution_count": 4,
   "metadata": {},
   "outputs": [
    {
     "name": "stdout",
     "output_type": "stream",
     "text": [
      "10\n",
      "128\n"
     ]
    }
   ],
   "source": [
    "for_loop()\n",
    "for_sum()"
   ]
  },
  {
   "cell_type": "code",
   "execution_count": 5,
   "metadata": {},
   "outputs": [
    {
     "name": "stdout",
     "output_type": "stream",
     "text": [
      "2i 1.4142135623730951\n",
      "2nd 1st\n",
      "4th 3rd\n"
     ]
    },
    {
     "data": {
      "text/plain": [
       "8 <nil>"
      ]
     },
     "execution_count": 5,
     "metadata": {},
     "output_type": "execute_result"
    }
   ],
   "source": [
    "fmt.Println(sqrt(-4), sqrt(2))\n",
    "fmt.Println(swap(\"1st\", \"2nd\"))\n",
    "fmt.Println(swap2(\"3rd\", \"4th\"))"
   ]
  },
  {
   "cell_type": "code",
   "execution_count": 6,
   "metadata": {},
   "outputs": [],
   "source": [
    "func pow(x, n, lim float64) float64 {\n",
    "\tif v := math.Pow(x, n); v < lim {\n",
    "\t\treturn v\n",
    "\t}\n",
    "\treturn lim\n",
    "}"
   ]
  },
  {
   "cell_type": "code",
   "execution_count": 7,
   "metadata": {},
   "outputs": [
    {
     "name": "stdout",
     "output_type": "stream",
     "text": [
      "20\n"
     ]
    },
    {
     "data": {
      "text/plain": [
       "3 <nil>"
      ]
     },
     "execution_count": 7,
     "metadata": {},
     "output_type": "execute_result"
    }
   ],
   "source": [
    "fmt.Println(pow(3, 3, 20))\n"
   ]
  },
  {
   "cell_type": "code",
   "execution_count": 8,
   "metadata": {},
   "outputs": [],
   "source": [
    "func Sqrt(x float64) (z float64) {\n",
    "    z := x/2\n",
    "    for i := 0; i < 5 ; i++ {\n",
    "        z -= (z*z - x) / (2*z)\n",
    "    }\n",
    "    return\n",
    "}"
   ]
  },
  {
   "cell_type": "code",
   "execution_count": 9,
   "metadata": {},
   "outputs": [
    {
     "name": "stdout",
     "output_type": "stream",
     "text": [
      "1.4142135623730951 14.904920889778104 28.859197365079268\n",
      "1.4142135623730951 14.89966442575134 28.24889378365107\n"
     ]
    },
    {
     "data": {
      "text/plain": [
       "55 <nil>"
      ]
     },
     "execution_count": 9,
     "metadata": {},
     "output_type": "execute_result"
    }
   ],
   "source": [
    "fmt.Println(Sqrt(2), Sqrt(222), Sqrt(798))\n",
    "fmt.Println(math.Sqrt(2), math.Sqrt(222), math.Sqrt(798))"
   ]
  }
 ],
 "metadata": {
  "kernelspec": {
   "display_name": "Go",
   "language": "go",
   "name": "gophernotes"
  },
  "language_info": {
   "codemirror_mode": "",
   "file_extension": ".go",
   "mimetype": "",
   "name": "go",
   "nbconvert_exporter": "",
   "pygments_lexer": "",
   "version": "go1.13.8"
  },
  "toc": {
   "base_numbering": 1,
   "nav_menu": {},
   "number_sections": true,
   "sideBar": true,
   "skip_h1_title": false,
   "title_cell": "Table of Contents",
   "title_sidebar": "Contents",
   "toc_cell": false,
   "toc_position": {},
   "toc_section_display": true,
   "toc_window_display": false
  },
  "varInspector": {
   "cols": {
    "lenName": 16,
    "lenType": 16,
    "lenVar": 40
   },
   "kernels_config": {
    "python": {
     "delete_cmd_postfix": "",
     "delete_cmd_prefix": "del ",
     "library": "var_list.py",
     "varRefreshCmd": "print(var_dic_list())"
    },
    "r": {
     "delete_cmd_postfix": ") ",
     "delete_cmd_prefix": "rm(",
     "library": "var_list.r",
     "varRefreshCmd": "cat(var_dic_list()) "
    }
   },
   "types_to_exclude": [
    "module",
    "function",
    "builtin_function_or_method",
    "instance",
    "_Feature"
   ],
   "window_display": false
  }
 },
 "nbformat": 4,
 "nbformat_minor": 4
}
